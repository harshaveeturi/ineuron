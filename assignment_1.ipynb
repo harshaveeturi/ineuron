{
 "cells": [
  {
   "cell_type": "code",
   "execution_count": 4,
   "metadata": {},
   "outputs": [
    {
     "name": "stdout",
     "output_type": "stream",
     "text": [
      "2002,2009,2016,2023,2037,2044,2051,2058,2072,2079,2086,2093,2107,2114,2121,2128,2142,2149,2156,2163,2177,2184,2191,2198,2212,2219,2226,2233,2247,2254,2261,2268,2282,2289,2296,2303,2317,2324,2331,2338,2352,2359,2366,2373,2387,2394,2401,2408,2422,2429,2436,2443,2457,2464,2471,2478,2492,2499,2506,2513,2527,2534,2541,2548,2562,2569,2576,2583,2597,2604,2611,2618,2632,2639,2646,2653,2667,2674,2681,2688,2702,2709,2716,2723,2737,2744,2751,2758,2772,2779,2786,2793,2807,2814,2821,2828,2842,2849,2856,2863,2877,2884,2891,2898,2912,2919,2926,2933,2947,2954,2961,2968,2982,2989,2996,3003,3017,3024,3031,3038,3052,3059,3066,3073,3087,3094,3101,3108,3122,3129,3136,3143,3157,3164,3171,3178,3192,3199,\n",
      "\n"
     ]
    }
   ],
   "source": [
    "import math\n",
    "\n",
    "lower=2000\n",
    "upper=3200\n",
    "for i in range(lower,upper+1):\n",
    "    if i%7==0 and i%5!=0:\n",
    "        print(i,end=',')\n",
    "\n",
    "print()\n",
    "print()"
   ]
  },
  {
   "cell_type": "code",
   "execution_count": 5,
   "metadata": {},
   "outputs": [
    {
     "name": "stdout",
     "output_type": "stream",
     "text": [
      "Enter first name :harsha\n",
      "Ente last name: veeturi\n",
      "ahsrah iruteev\n"
     ]
    }
   ],
   "source": [
    "first_name=input(\"Enter first name :\")\n",
    "last_name=input(\"Ente last name: \")\n",
    "print(first_name[::-1]+\" \"+last_name[::-1])"
   ]
  },
  {
   "cell_type": "code",
   "execution_count": 6,
   "metadata": {},
   "outputs": [
    {
     "name": "stdout",
     "output_type": "stream",
     "text": [
      "904.7786842338603\n"
     ]
    }
   ],
   "source": [
    "diameter=12\n",
    "radius=diameter/2\n",
    "volume=(4/3)*math.pi*math.pow(radius,3)\n",
    "print(volume)"
   ]
  },
  {
   "cell_type": "code",
   "execution_count": 8,
   "metadata": {},
   "outputs": [
    {
     "name": "stdout",
     "output_type": "stream",
     "text": [
      "Enter  a sequence of numbers to the console :1,2,3,4,5,6,7,8\n",
      "[1, 2, 3, 4, 5, 6, 7, 8]\n",
      "\n",
      "\n"
     ]
    }
   ],
   "source": [
    "inputs=input(\"Enter  a sequence of numbers to the console :\")\n",
    "#print(type(inputs))\n",
    "temp=[int(x) for x in inputs.split(\",\")]\n",
    "print(temp)\n",
    "print()\n",
    "print()"
   ]
  },
  {
   "cell_type": "code",
   "execution_count": 9,
   "metadata": {},
   "outputs": [
    {
     "name": "stdout",
     "output_type": "stream",
     "text": [
      "Enter a string to reverse it :palindrome\n",
      "emordnilap\n",
      "\n",
      "\n"
     ]
    }
   ],
   "source": [
    "input_value=input(\"Enter a string to reverse it :\")\n",
    "print(input_value[::-1])\n",
    "print()\n",
    "print()\n"
   ]
  },
  {
   "cell_type": "code",
   "execution_count": 11,
   "metadata": {},
   "outputs": [
    {
     "name": "stdout",
     "output_type": "stream",
     "text": [
      "*\n",
      "**\n",
      "***\n",
      "****\n",
      "*****\n",
      "****\n",
      "***\n",
      "**\n",
      "*\n",
      "\n",
      "\n"
     ]
    }
   ],
   "source": [
    "for i in range(5):\n",
    "    for j in range(i+1):\n",
    "        print(\"*\",end='')\n",
    "    print()\n",
    "for k in range(3,-1,-1):\n",
    "    for l in range(k+1):\n",
    "        print(\"*\",end='')\n",
    "    print()\n",
    "\n",
    "print()\n",
    "print()"
   ]
  },
  {
   "cell_type": "code",
   "execution_count": 12,
   "metadata": {},
   "outputs": [
    {
     "name": "stdout",
     "output_type": "stream",
     "text": [
      "\n",
      "    WE, THE PEOPLE OF INDIA, \n",
      "         having solemnly resolved to constitute India into a SOVEREIGN,! \n",
      "                SOCIALIST, SECULAR, DEMOCRATIC REPUBLIC \n",
      "                 and to secure to all its citizens\n",
      "    \n",
      "\n",
      "\n"
     ]
    }
   ],
   "source": [
    "a='''\n",
    "    WE, THE PEOPLE OF INDIA, \n",
    "         having solemnly resolved to constitute India into a SOVEREIGN,! \n",
    "                SOCIALIST, SECULAR, DEMOCRATIC REPUBLIC \n",
    "                 and to secure to all its citizens\n",
    "    '''\n",
    "print(a)\n",
    "print()\n",
    "print()"
   ]
  },
  {
   "cell_type": "code",
   "execution_count": null,
   "metadata": {},
   "outputs": [],
   "source": []
  }
 ],
 "metadata": {
  "kernelspec": {
   "display_name": "Python 3",
   "language": "python",
   "name": "python3"
  },
  "language_info": {
   "codemirror_mode": {
    "name": "ipython",
    "version": 3
   },
   "file_extension": ".py",
   "mimetype": "text/x-python",
   "name": "python",
   "nbconvert_exporter": "python",
   "pygments_lexer": "ipython3",
   "version": "3.7.4"
  }
 },
 "nbformat": 4,
 "nbformat_minor": 2
}
