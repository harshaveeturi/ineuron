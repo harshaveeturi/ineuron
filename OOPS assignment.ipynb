{
 "cells": [
  {
   "cell_type": "code",
   "execution_count": 1,
   "metadata": {},
   "outputs": [
    {
     "name": "stdout",
     "output_type": "stream",
     "text": [
      "b attribute 10\n",
      "\n",
      "this values  b , c  and d :10,20,30\n",
      "None\n",
      "c attribute 20\n",
      "\n",
      "this values  b , c  and d :10,20,30\n",
      "None\n",
      "d attribute 30\n"
     ]
    }
   ],
   "source": [
    "class B:\n",
    "    def __init__(self,b):\n",
    "        self.b=b\n",
    "    def test(self,b):\n",
    "        print('this is method b'+str(b))\n",
    "class C:\n",
    "    def __init__(self,c):\n",
    "        self.c=c\n",
    "    def test(self,c):\n",
    "        print('this is method c'+str(C))\n",
    "        \n",
    "class D(C,B):\n",
    "    def __init__(self,b,c,d):\n",
    "        C.__init__(self,c)\n",
    "        B.__init__(self,b)\n",
    "        self.d=d\n",
    "    def test(self,b,c,d):\n",
    "        print('this values  b , c  and d :'+str(b)+\",\"+str(c)+\",\"+str(d))\n",
    "\n",
    "d=D(10,20,30)\n",
    "print('b attribute',str(d.b))\n",
    "print()\n",
    "print(d.test(10,20,30))\n",
    "print('c attribute',str(d.c))\n",
    "print()\n",
    "print(d.test(10,20,30))\n",
    "print('d attribute',str(d.d))"
   ]
  },
  {
   "cell_type": "code",
   "execution_count": 2,
   "metadata": {},
   "outputs": [
    {
     "data": {
      "text/plain": [
       "[__main__.D, __main__.C, __main__.B, object]"
      ]
     },
     "execution_count": 2,
     "metadata": {},
     "output_type": "execute_result"
    }
   ],
   "source": [
    "D.mro()"
   ]
  },
  {
   "cell_type": "code",
   "execution_count": null,
   "metadata": {},
   "outputs": [],
   "source": []
  }
 ],
 "metadata": {
  "kernelspec": {
   "display_name": "Python 3",
   "language": "python",
   "name": "python3"
  },
  "language_info": {
   "codemirror_mode": {
    "name": "ipython",
    "version": 3
   },
   "file_extension": ".py",
   "mimetype": "text/x-python",
   "name": "python",
   "nbconvert_exporter": "python",
   "pygments_lexer": "ipython3",
   "version": "3.7.4"
  }
 },
 "nbformat": 4,
 "nbformat_minor": 2
}
